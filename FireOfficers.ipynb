{
  "nbformat": 4,
  "nbformat_minor": 0,
  "metadata": {
    "colab": {
      "provenance": [],
      "authorship_tag": "ABX9TyNVSvANT2UDoLwD8TU6a/5B",
      "include_colab_link": true
    },
    "kernelspec": {
      "name": "python3",
      "display_name": "Python 3"
    },
    "language_info": {
      "name": "python"
    }
  },
  "cells": [
    {
      "cell_type": "markdown",
      "metadata": {
        "id": "view-in-github",
        "colab_type": "text"
      },
      "source": [
        "<a href=\"https://colab.research.google.com/github/JoseMunoz9/Portfolio/blob/main/FireOfficers.ipynb\" target=\"_parent\"><img src=\"https://colab.research.google.com/assets/colab-badge.svg\" alt=\"Open In Colab\"/></a>"
      ]
    },
    {
      "cell_type": "markdown",
      "source": [
        "Artificial Intelligence Task"
      ],
      "metadata": {
        "id": "86F69WKA9NGE"
      }
    },
    {
      "cell_type": "markdown",
      "source": [
        "Part 1\n",
        "\n",
        "In honour of the hard work that the fire officers are doing, the community has decided to build a new fire station for them. There are seven fire officers and four offices. Because there are more fire officers than offices, some fire officers have to be in the same offices as others. However, the fire officers are very picky about who they share with. The community administration is having trouble assigning fire officers to offices. They have asked you to plan where each fire officer goes.\n",
        "\n",
        "The fire officers are Phylis, Ann, Henry, Eva, Bill, Mark, and Bob. They have given you the plans of the fire station: Each numbered area is an office in the fire station. Multiple officers can go into the same office, and not all offices have to be filled. Each fire person has restrictions about where they can be placed:\n",
        "\n",
        "1. Phylis and Eva don’t get on, and do not want to be in the same office.\n",
        "2. Mark and Bob are best friends, and have to be in the same office.\n",
        "3. Henry listens to loud music. Only Eva will share his office.\n",
        "4. Eva doesn't talk to Mark, Bob, and Bill.\n",
        "5. Ann is always late but is a great fire officer. To hide that Ann is always late, Ann cannot be in either the same office or in an office adjacent to Phylis or Eva.\n",
        "6. Phylis annoys Bill, so Bill doesn't want to be in Phyllis’s office.\n",
        "7. Phylis is the fire chief, so she wants to be in office 1.\n",
        "\n",
        "Using any CSP (Constraint Satisfaction Problem) framework, discover if the above problem can be solved and if so, detail who would be in each office."
      ],
      "metadata": {
        "id": "w0cbXBUW9RAt"
      }
    },
    {
      "cell_type": "code",
      "source": [
        "# Source code reference: https://github.com/davecom/ClassicComputerScienceProblemsInPython/blob/master/Chapter3/csp.py\n",
        "# csp.py\n",
        "# From Classic Computer Science Problems in Python Chapter 3\n",
        "# Copyright 2018 David Kopec\n",
        "#\n",
        "# Licensed under the Apache License, Version 2.0 (the \"License\");\n",
        "# you may not use this file except in compliance with the License.\n",
        "# You may obtain a copy of the License at\n",
        "#\n",
        "# http://www.apache.org/licenses/LICENSE-2.0\n",
        "#\n",
        "# Unless required by applicable law or agreed to in writing, software\n",
        "# distributed under the License is distributed on an \"AS IS\" BASIS,\n",
        "# WITHOUT WARRANTIES OR CONDITIONS OF ANY KIND, either express or implied.\n",
        "# See the License for the specific language governing permissions and\n",
        "# limitations under the License.\n",
        "\n",
        "from typing import Generic, TypeVar, Dict, List, Optional\n",
        "from abc import ABC, abstractmethod\n",
        "\n",
        "V = TypeVar('V') # variable type\n",
        "D = TypeVar('D') # domain type\n",
        "\n",
        "\n",
        "# Base class for all constraints\n",
        "class Constraint(Generic[V, D], ABC):\n",
        "    # The variables that the constraint is between\n",
        "    def __init__(self, variables: List[V]) -> None:\n",
        "        self.variables = variables\n",
        "\n",
        "    # Must be overridden by subclasses\n",
        "    @abstractmethod\n",
        "    def satisfied(self, assignment: Dict[V, D]) -> bool:\n",
        "        ...\n",
        "\n",
        "\n",
        "# A constraint satisfaction problem consists of variables of type V\n",
        "# that have ranges of values known as domains of type D and constraints\n",
        "# that determine whether a particular variable's domain selection is valid\n",
        "class CSP(Generic[V, D]):\n",
        "    def __init__(self, variables: List[V], domains: Dict[V, List[D]]) -> None:\n",
        "        self.variables: List[V] = variables # variables to be constrained\n",
        "        self.domains: Dict[V, List[D]] = domains # domain of each variable\n",
        "        self.constraints: Dict[V, List[Constraint[V, D]]] = {}\n",
        "        for variable in self.variables:\n",
        "            self.constraints[variable] = []\n",
        "            if variable not in self.domains:\n",
        "                raise LookupError(\"Every variable should have a domain assigned to it.\")\n",
        "\n",
        "    def add_constraint(self, constraint: Constraint[V, D]) -> None:\n",
        "        for variable in constraint.variables:\n",
        "            if variable not in self.variables:\n",
        "                raise LookupError(\"Variable in constraint not in CSP\")\n",
        "            else:\n",
        "                self.constraints[variable].append(constraint)\n",
        "\n",
        "    # Check if the value assignment is consistent by checking all constraints\n",
        "    # for the given variable against it\n",
        "    def consistent(self, variable: V, assignment: Dict[V, D]) -> bool:\n",
        "        for constraint in self.constraints[variable]:\n",
        "            if not constraint.satisfied(assignment):\n",
        "                return False\n",
        "        return True\n",
        "\n",
        "    def backtracking_search(self, assignment: Dict[V, D] = {}) -> Optional[Dict[V, D]]:\n",
        "        # assignment is complete if every variable is assigned (our base case)\n",
        "        if len(assignment) == len(self.variables):\n",
        "            return assignment\n",
        "\n",
        "        # get all variables in the CSP but not in the assignment\n",
        "        unassigned: List[V] = [v for v in self.variables if v not in assignment]\n",
        "\n",
        "        # get the every possible domain value of the first unassigned variable\n",
        "        first: V = unassigned[0]\n",
        "        for value in self.domains[first]:\n",
        "            local_assignment = assignment.copy()\n",
        "            local_assignment[first] = value\n",
        "            # if we're still consistent, we recurse (continue)\n",
        "            if self.consistent(first, local_assignment):\n",
        "                result: Optional[Dict[V, D]] = self.backtracking_search(local_assignment)\n",
        "                # if we didn't find the result, we will end up backtracking\n",
        "                if result is not None:\n",
        "                    return result\n",
        "        return None"
      ],
      "metadata": {
        "id": "UPv2FGj-9enc"
      },
      "execution_count": 1,
      "outputs": []
    },
    {
      "cell_type": "code",
      "source": [
        "from typing import Dict, List, Optional\n",
        "\n",
        "class FireOfficers (Constraint[str, str]):\n",
        "    def __init__(self, place1: str, place2: str) -> None:\n",
        "        super().__init__([place1, place2])\n",
        "        self.place1: str = place1\n",
        "        self.place2: str = place2\n",
        "\n",
        "    def satisfied(self, assignment: Dict[str, str]) -> bool:\n",
        "        if self.place1 not in assignment or self.place2 not in assignment:\n",
        "            return True\n",
        "        return assignment[self.place1] != assignment[self.place2]"
      ],
      "metadata": {
        "id": "X_KFSw2R9PtQ"
      },
      "execution_count": 2,
      "outputs": []
    },
    {
      "cell_type": "code",
      "source": [
        "if __name__ == \"__main__\":\n",
        "    variables: List[str] = [\"Phylis\", \"Eva\", \"Mark\", \"Bob\", \"Henry\", \"Bill\", \"Ann\" ]\n",
        "    domains: Dict[str, List[str]] = {}\n",
        "    for variable in variables:\n",
        "        domains[variable] = [\"Room1\", \"Room2\", \"Room3\", \"Room4\"]\n",
        "    csp: CSP[str, str] = CSP(variables, domains)\n",
        "    csp.add_constraint(FireOfficers(\"Eva\",\"Mark\")) # Eva doesn't talk to Mark, Bob, Bill and doesn't get on with Phylis.\n",
        "    csp.add_constraint(FireOfficers(\"Eva\", \"Bob\"))\n",
        "    csp.add_constraint(FireOfficers(\"Eva\", \"Bill\"))\n",
        "    \n",
        "    csp.add_constraint(FireOfficers(\"Ann\", \"Phylis\")) # Ann cannot be in an office adjacent to Phylis or Eva.\n",
        "    csp.add_constraint(FireOfficers(\"Ann\", \"Eva\"))\n",
        "    csp.add_constraint(FireOfficers(\"Ann\", \"Bob\"))\n",
        "    \n",
        "    csp.add_constraint(FireOfficers(\"Phylis\", \"Eva\")) # Phylis doesn't get on with Eva and she also annoys Bill.\n",
        "    csp.add_constraint(FireOfficers(\"Phylis\", \"Bill\"))\n",
        "    \n",
        "    csp.add_constraint(FireOfficers(\"Henry\", \"Phylis\")) # Henry listens to loud music. Eva is the only one who would share his office.\n",
        "    csp.add_constraint(FireOfficers(\"Henry\", \"Mark\"))\n",
        "    csp.add_constraint(FireOfficers(\"Henry\", \"Bob\"))\n",
        "    csp.add_constraint(FireOfficers(\"Henry\", \"Bill\"))\n",
        "    csp.add_constraint(FireOfficers(\"Henry\", \"Ann\"))\n",
        "    \n",
        "    csp.add_constraint(FireOfficers(\"Mark\", \"Phylis\")) # Mark is best friend with Bob, so they have to be in the same office.\n",
        "    csp.add_constraint(FireOfficers(\"Mark\", \"Eva\"))\n",
        "    csp.add_constraint(FireOfficers(\"Mark\", \"Henry\"))\n",
        "    csp.add_constraint(FireOfficers(\"Mark\", \"Bill\"))\n",
        "    csp.add_constraint(FireOfficers(\"Mark\", \"Ann\"))\n",
        "    \n",
        "    csp.add_constraint(FireOfficers(\"Bob\", \"Phylis\")) # Bob is best friend with Mark, so they have to be in the same office.\n",
        "    solution: Optional[Dict[str, str]] = csp.backtracking_search()\n",
        "    if solution is None:\n",
        "        print(\"No solution found!\")\n",
        "    else:\n",
        "        print(solution)"
      ],
      "metadata": {
        "colab": {
          "base_uri": "https://localhost:8080/"
        },
        "id": "eO83rIEG9MWZ",
        "outputId": "52a894ba-efa8-4a7e-aada-2eb6087517eb"
      },
      "execution_count": 3,
      "outputs": [
        {
          "output_type": "stream",
          "name": "stdout",
          "text": [
            "{'Phylis': 'Room1', 'Eva': 'Room2', 'Mark': 'Room3', 'Bob': 'Room3', 'Henry': 'Room2', 'Bill': 'Room4', 'Ann': 'Room4'}\n"
          ]
        }
      ]
    },
    {
      "cell_type": "markdown",
      "source": [
        "Solution:\n",
        "\n",
        "Constraint Satisfaction Problem (CSP) has helped us to find the perfect solution for the problem above. See down below the details:\n",
        "\n",
        "\n",
        "- 'Phylis' has been allocated to Office room 1 (fire chief).\n",
        "\n",
        "- 'Eva and Henry' have been allocated to Office room 2 (Eva would only share office with Henry).\n",
        "\n",
        "- 'Mark and Bob' have been allocated to Office room 3 (Mark and Bob are best friends).\n",
        "\n",
        "- 'Ann and Bill' have been allocated to Office room 4 (Ann cannot be adjacent to Phylis nor Eva and Phylis annoys Bill)."
      ],
      "metadata": {
        "id": "cm6XvsCV94Yt"
      }
    }
  ]
}